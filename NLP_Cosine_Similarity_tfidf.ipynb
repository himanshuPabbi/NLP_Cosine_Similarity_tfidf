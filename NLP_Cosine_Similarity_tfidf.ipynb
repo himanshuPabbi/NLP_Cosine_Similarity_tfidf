{
 "cells": [
  {
   "cell_type": "code",
   "execution_count": 1,
   "id": "d6e38ebf",
   "metadata": {},
   "outputs": [],
   "source": [
    "import pandas as pd"
   ]
  },
  {
   "cell_type": "code",
   "execution_count": 2,
   "id": "357d1ad7",
   "metadata": {},
   "outputs": [],
   "source": [
    "import numpy as np # linear algebra\n",
    "import pandas as pd # data processing, CSV file I/O (e.g. pd.read_csv)\n",
    "from sklearn.feature_extraction.text import TfidfVectorizer\n",
    "from sklearn.metrics.pairwise import cosine_similarity\n"
   ]
  },
  {
   "cell_type": "code",
   "execution_count": 3,
   "id": "7b4310b3",
   "metadata": {},
   "outputs": [],
   "source": [
    "df=pd.read_csv(\"Poem_classification - test_data.csv\")\n"
   ]
  },
  {
   "cell_type": "code",
   "execution_count": 4,
   "id": "ad769bdf",
   "metadata": {},
   "outputs": [
    {
     "data": {
      "text/html": [
       "<div>\n",
       "<style scoped>\n",
       "    .dataframe tbody tr th:only-of-type {\n",
       "        vertical-align: middle;\n",
       "    }\n",
       "\n",
       "    .dataframe tbody tr th {\n",
       "        vertical-align: top;\n",
       "    }\n",
       "\n",
       "    .dataframe thead th {\n",
       "        text-align: right;\n",
       "    }\n",
       "</style>\n",
       "<table border=\"1\" class=\"dataframe\">\n",
       "  <thead>\n",
       "    <tr style=\"text-align: right;\">\n",
       "      <th></th>\n",
       "      <th>Genre</th>\n",
       "      <th>Poem</th>\n",
       "    </tr>\n",
       "  </thead>\n",
       "  <tbody>\n",
       "    <tr>\n",
       "      <th>0</th>\n",
       "      <td>Music</td>\n",
       "      <td>A woman walks by the bench I’m sitting onwith ...</td>\n",
       "    </tr>\n",
       "    <tr>\n",
       "      <th>1</th>\n",
       "      <td>Music</td>\n",
       "      <td>Because I am a boy, the untouchability of beau...</td>\n",
       "    </tr>\n",
       "    <tr>\n",
       "      <th>2</th>\n",
       "      <td>Music</td>\n",
       "      <td>Because today we did not leave this world,We n...</td>\n",
       "    </tr>\n",
       "    <tr>\n",
       "      <th>3</th>\n",
       "      <td>Music</td>\n",
       "      <td>Big Bend has been here, been here. Shouldn’t i...</td>\n",
       "    </tr>\n",
       "    <tr>\n",
       "      <th>4</th>\n",
       "      <td>Music</td>\n",
       "      <td>I put shells there, along the lip of the road....</td>\n",
       "    </tr>\n",
       "    <tr>\n",
       "      <th>...</th>\n",
       "      <td>...</td>\n",
       "      <td>...</td>\n",
       "    </tr>\n",
       "    <tr>\n",
       "      <th>145</th>\n",
       "      <td>Environment</td>\n",
       "      <td>To pick a tulip from the garden, the red one. ...</td>\n",
       "    </tr>\n",
       "    <tr>\n",
       "      <th>146</th>\n",
       "      <td>Environment</td>\n",
       "      <td>We are as clouds that veil the midnight moon; ...</td>\n",
       "    </tr>\n",
       "    <tr>\n",
       "      <th>147</th>\n",
       "      <td>Environment</td>\n",
       "      <td>When pulled, the spider web took another form....</td>\n",
       "    </tr>\n",
       "    <tr>\n",
       "      <th>148</th>\n",
       "      <td>Environment</td>\n",
       "      <td>Whose woods these are I think I know. His hous...</td>\n",
       "    </tr>\n",
       "    <tr>\n",
       "      <th>149</th>\n",
       "      <td>Environment</td>\n",
       "      <td>you can make the maples blazejust by stopping ...</td>\n",
       "    </tr>\n",
       "  </tbody>\n",
       "</table>\n",
       "<p>150 rows × 2 columns</p>\n",
       "</div>"
      ],
      "text/plain": [
       "           Genre                                               Poem\n",
       "0          Music  A woman walks by the bench I’m sitting onwith ...\n",
       "1          Music  Because I am a boy, the untouchability of beau...\n",
       "2          Music  Because today we did not leave this world,We n...\n",
       "3          Music  Big Bend has been here, been here. Shouldn’t i...\n",
       "4          Music  I put shells there, along the lip of the road....\n",
       "..           ...                                                ...\n",
       "145  Environment  To pick a tulip from the garden, the red one. ...\n",
       "146  Environment  We are as clouds that veil the midnight moon; ...\n",
       "147  Environment  When pulled, the spider web took another form....\n",
       "148  Environment  Whose woods these are I think I know. His hous...\n",
       "149  Environment  you can make the maples blazejust by stopping ...\n",
       "\n",
       "[150 rows x 2 columns]"
      ]
     },
     "execution_count": 4,
     "metadata": {},
     "output_type": "execute_result"
    }
   ],
   "source": [
    "df"
   ]
  },
  {
   "cell_type": "code",
   "execution_count": 5,
   "id": "b62e960c",
   "metadata": {},
   "outputs": [],
   "source": [
    "vectorizer = TfidfVectorizer(stop_words = 'english', ngram_range = (1,3))\n"
   ]
  },
  {
   "cell_type": "code",
   "execution_count": 6,
   "id": "12433d24",
   "metadata": {},
   "outputs": [],
   "source": [
    "features = vectorizer.fit_transform(df['Poem'].values)"
   ]
  },
  {
   "cell_type": "code",
   "execution_count": 12,
   "id": "695032ac",
   "metadata": {},
   "outputs": [
    {
     "data": {
      "text/plain": [
       "<150x8847 sparse matrix of type '<class 'numpy.float64'>'\n",
       "\twith 10015 stored elements in Compressed Sparse Row format>"
      ]
     },
     "execution_count": 12,
     "metadata": {},
     "output_type": "execute_result"
    }
   ],
   "source": [
    "features"
   ]
  },
  {
   "cell_type": "code",
   "execution_count": 7,
   "id": "aefcfd38",
   "metadata": {},
   "outputs": [],
   "source": [
    "Cos_Sim = cosine_similarity(features)\n"
   ]
  },
  {
   "cell_type": "code",
   "execution_count": 11,
   "id": "6b5d091b",
   "metadata": {},
   "outputs": [
    {
     "data": {
      "text/plain": [
       "array([[1., 0., 0., ..., 0., 0., 0.],\n",
       "       [0., 1., 0., ..., 0., 0., 0.],\n",
       "       [0., 0., 1., ..., 0., 0., 0.],\n",
       "       ...,\n",
       "       [0., 0., 0., ..., 1., 0., 0.],\n",
       "       [0., 0., 0., ..., 0., 1., 0.],\n",
       "       [0., 0., 0., ..., 0., 0., 1.]])"
      ]
     },
     "execution_count": 11,
     "metadata": {},
     "output_type": "execute_result"
    }
   ],
   "source": [
    "Cos_Sim"
   ]
  },
  {
   "cell_type": "code",
   "execution_count": 13,
   "id": "6547143a",
   "metadata": {},
   "outputs": [
    {
     "data": {
      "text/plain": [
       "150"
      ]
     },
     "execution_count": 13,
     "metadata": {},
     "output_type": "execute_result"
    }
   ],
   "source": [
    "len(Cos_Sim)"
   ]
  },
  {
   "cell_type": "code",
   "execution_count": 15,
   "id": "8c76f171",
   "metadata": {},
   "outputs": [
    {
     "data": {
      "text/plain": [
       "array([1.        , 0.        , 0.        , 0.        , 0.01730585,\n",
       "       0.01047722, 0.00429205, 0.        , 0.        , 0.00378481,\n",
       "       0.        , 0.        , 0.        , 0.        , 0.00494144,\n",
       "       0.        , 0.        , 0.        , 0.        , 0.        ,\n",
       "       0.        , 0.        , 0.        , 0.        , 0.        ,\n",
       "       0.0185738 , 0.00462023, 0.        , 0.        , 0.        ,\n",
       "       0.        , 0.        , 0.        , 0.        , 0.        ,\n",
       "       0.        , 0.        , 0.        , 0.01055808, 0.        ,\n",
       "       0.        , 0.01138182, 0.        , 0.        , 0.        ,\n",
       "       0.        , 0.        , 0.        , 0.00449492, 0.        ,\n",
       "       0.00975451, 0.00872369, 0.        , 0.        , 0.        ,\n",
       "       0.        , 0.        , 0.        , 0.        , 0.        ,\n",
       "       0.01392402, 0.        , 0.01174649, 0.        , 0.        ,\n",
       "       0.00386017, 0.        , 0.        , 0.        , 0.        ,\n",
       "       0.        , 0.        , 0.00689044, 0.        , 0.        ,\n",
       "       0.        , 0.00749364, 0.        , 0.00374665, 0.        ,\n",
       "       0.01870719, 0.        , 0.00393855, 0.01362262, 0.        ,\n",
       "       0.        , 0.00391949, 0.        , 0.        , 0.        ,\n",
       "       0.        , 0.        , 0.        , 0.        , 0.        ,\n",
       "       0.00382489, 0.00385916, 0.        , 0.        , 0.        ,\n",
       "       0.        , 0.0191946 , 0.        , 0.        , 0.        ,\n",
       "       0.        , 0.        , 0.        , 0.        , 0.00348445,\n",
       "       0.        , 0.        , 0.        , 0.        , 0.        ,\n",
       "       0.0117596 , 0.        , 0.        , 0.        , 0.01692937,\n",
       "       0.        , 0.        , 0.        , 0.        , 0.00948362,\n",
       "       0.01554041, 0.        , 0.0042744 , 0.        , 0.        ,\n",
       "       0.02265166, 0.        , 0.        , 0.        , 0.00697147,\n",
       "       0.        , 0.        , 0.        , 0.00479703, 0.        ,\n",
       "       0.        , 0.        , 0.0068297 , 0.        , 0.        ,\n",
       "       0.        , 0.00399123, 0.        , 0.        , 0.        ])"
      ]
     },
     "execution_count": 15,
     "metadata": {},
     "output_type": "execute_result"
    }
   ],
   "source": [
    "Cos_Sim[0]"
   ]
  },
  {
   "cell_type": "code",
   "execution_count": null,
   "id": "6a4969a3",
   "metadata": {},
   "outputs": [],
   "source": []
  },
  {
   "cell_type": "code",
   "execution_count": 14,
   "id": "0d9b9f23",
   "metadata": {},
   "outputs": [
    {
     "data": {
      "text/plain": [
       "numpy.ndarray"
      ]
     },
     "execution_count": 14,
     "metadata": {},
     "output_type": "execute_result"
    }
   ],
   "source": [
    "type(Cos_Sim)"
   ]
  },
  {
   "cell_type": "code",
   "execution_count": 8,
   "id": "04ac1a33",
   "metadata": {},
   "outputs": [
    {
     "name": "stdout",
     "output_type": "stream",
     "text": [
      "A woman walks by the bench I’m sitting onwith her dog that looks part Lab, part Buick,stops and asks if I would like to dance.I smile, tell her of course I do. We decideon a waltz that she begins to hum.\n"
     ]
    }
   ],
   "source": [
    "print(df.loc[0,'Poem'])"
   ]
  },
  {
   "cell_type": "code",
   "execution_count": 9,
   "id": "27f6f5d7",
   "metadata": {},
   "outputs": [],
   "source": [
    "Test = pd.DataFrame(list(enumerate(Cos_Sim[0])), columns = ['Poem_index','Similarity'])"
   ]
  },
  {
   "cell_type": "code",
   "execution_count": 16,
   "id": "c0a487f3",
   "metadata": {},
   "outputs": [
    {
     "data": {
      "text/html": [
       "<div>\n",
       "<style scoped>\n",
       "    .dataframe tbody tr th:only-of-type {\n",
       "        vertical-align: middle;\n",
       "    }\n",
       "\n",
       "    .dataframe tbody tr th {\n",
       "        vertical-align: top;\n",
       "    }\n",
       "\n",
       "    .dataframe thead th {\n",
       "        text-align: right;\n",
       "    }\n",
       "</style>\n",
       "<table border=\"1\" class=\"dataframe\">\n",
       "  <thead>\n",
       "    <tr style=\"text-align: right;\">\n",
       "      <th></th>\n",
       "      <th>Poem_index</th>\n",
       "      <th>Similarity</th>\n",
       "    </tr>\n",
       "  </thead>\n",
       "  <tbody>\n",
       "    <tr>\n",
       "      <th>0</th>\n",
       "      <td>0</td>\n",
       "      <td>1.000000</td>\n",
       "    </tr>\n",
       "    <tr>\n",
       "      <th>1</th>\n",
       "      <td>1</td>\n",
       "      <td>0.000000</td>\n",
       "    </tr>\n",
       "    <tr>\n",
       "      <th>2</th>\n",
       "      <td>2</td>\n",
       "      <td>0.000000</td>\n",
       "    </tr>\n",
       "    <tr>\n",
       "      <th>3</th>\n",
       "      <td>3</td>\n",
       "      <td>0.000000</td>\n",
       "    </tr>\n",
       "    <tr>\n",
       "      <th>4</th>\n",
       "      <td>4</td>\n",
       "      <td>0.017306</td>\n",
       "    </tr>\n",
       "    <tr>\n",
       "      <th>...</th>\n",
       "      <td>...</td>\n",
       "      <td>...</td>\n",
       "    </tr>\n",
       "    <tr>\n",
       "      <th>145</th>\n",
       "      <td>145</td>\n",
       "      <td>0.000000</td>\n",
       "    </tr>\n",
       "    <tr>\n",
       "      <th>146</th>\n",
       "      <td>146</td>\n",
       "      <td>0.003991</td>\n",
       "    </tr>\n",
       "    <tr>\n",
       "      <th>147</th>\n",
       "      <td>147</td>\n",
       "      <td>0.000000</td>\n",
       "    </tr>\n",
       "    <tr>\n",
       "      <th>148</th>\n",
       "      <td>148</td>\n",
       "      <td>0.000000</td>\n",
       "    </tr>\n",
       "    <tr>\n",
       "      <th>149</th>\n",
       "      <td>149</td>\n",
       "      <td>0.000000</td>\n",
       "    </tr>\n",
       "  </tbody>\n",
       "</table>\n",
       "<p>150 rows × 2 columns</p>\n",
       "</div>"
      ],
      "text/plain": [
       "     Poem_index  Similarity\n",
       "0             0    1.000000\n",
       "1             1    0.000000\n",
       "2             2    0.000000\n",
       "3             3    0.000000\n",
       "4             4    0.017306\n",
       "..          ...         ...\n",
       "145         145    0.000000\n",
       "146         146    0.003991\n",
       "147         147    0.000000\n",
       "148         148    0.000000\n",
       "149         149    0.000000\n",
       "\n",
       "[150 rows x 2 columns]"
      ]
     },
     "execution_count": 16,
     "metadata": {},
     "output_type": "execute_result"
    }
   ],
   "source": [
    "Test"
   ]
  },
  {
   "cell_type": "code",
   "execution_count": 20,
   "id": "6450dcce",
   "metadata": {},
   "outputs": [
    {
     "data": {
      "text/html": [
       "<div>\n",
       "<style scoped>\n",
       "    .dataframe tbody tr th:only-of-type {\n",
       "        vertical-align: middle;\n",
       "    }\n",
       "\n",
       "    .dataframe tbody tr th {\n",
       "        vertical-align: top;\n",
       "    }\n",
       "\n",
       "    .dataframe thead th {\n",
       "        text-align: right;\n",
       "    }\n",
       "</style>\n",
       "<table border=\"1\" class=\"dataframe\">\n",
       "  <thead>\n",
       "    <tr style=\"text-align: right;\">\n",
       "      <th></th>\n",
       "      <th>Poem_index</th>\n",
       "      <th>Similarity</th>\n",
       "    </tr>\n",
       "  </thead>\n",
       "  <tbody>\n",
       "    <tr>\n",
       "      <th>0</th>\n",
       "      <td>0</td>\n",
       "      <td>1.000000</td>\n",
       "    </tr>\n",
       "    <tr>\n",
       "      <th>130</th>\n",
       "      <td>130</td>\n",
       "      <td>0.022652</td>\n",
       "    </tr>\n",
       "    <tr>\n",
       "      <th>101</th>\n",
       "      <td>101</td>\n",
       "      <td>0.019195</td>\n",
       "    </tr>\n",
       "    <tr>\n",
       "      <th>80</th>\n",
       "      <td>80</td>\n",
       "      <td>0.018707</td>\n",
       "    </tr>\n",
       "    <tr>\n",
       "      <th>25</th>\n",
       "      <td>25</td>\n",
       "      <td>0.018574</td>\n",
       "    </tr>\n",
       "    <tr>\n",
       "      <th>...</th>\n",
       "      <td>...</td>\n",
       "      <td>...</td>\n",
       "    </tr>\n",
       "    <tr>\n",
       "      <th>47</th>\n",
       "      <td>47</td>\n",
       "      <td>0.000000</td>\n",
       "    </tr>\n",
       "    <tr>\n",
       "      <th>46</th>\n",
       "      <td>46</td>\n",
       "      <td>0.000000</td>\n",
       "    </tr>\n",
       "    <tr>\n",
       "      <th>45</th>\n",
       "      <td>45</td>\n",
       "      <td>0.000000</td>\n",
       "    </tr>\n",
       "    <tr>\n",
       "      <th>44</th>\n",
       "      <td>44</td>\n",
       "      <td>0.000000</td>\n",
       "    </tr>\n",
       "    <tr>\n",
       "      <th>149</th>\n",
       "      <td>149</td>\n",
       "      <td>0.000000</td>\n",
       "    </tr>\n",
       "  </tbody>\n",
       "</table>\n",
       "<p>150 rows × 2 columns</p>\n",
       "</div>"
      ],
      "text/plain": [
       "     Poem_index  Similarity\n",
       "0             0    1.000000\n",
       "130         130    0.022652\n",
       "101         101    0.019195\n",
       "80           80    0.018707\n",
       "25           25    0.018574\n",
       "..          ...         ...\n",
       "47           47    0.000000\n",
       "46           46    0.000000\n",
       "45           45    0.000000\n",
       "44           44    0.000000\n",
       "149         149    0.000000\n",
       "\n",
       "[150 rows x 2 columns]"
      ]
     },
     "execution_count": 20,
     "metadata": {},
     "output_type": "execute_result"
    }
   ],
   "source": [
    "Test.sort_values(by=\"Similarity\",ascending=False)"
   ]
  },
  {
   "cell_type": "code",
   "execution_count": 10,
   "id": "be2db14d",
   "metadata": {},
   "outputs": [
    {
     "data": {
      "text/html": [
       "<div>\n",
       "<style scoped>\n",
       "    .dataframe tbody tr th:only-of-type {\n",
       "        vertical-align: middle;\n",
       "    }\n",
       "\n",
       "    .dataframe tbody tr th {\n",
       "        vertical-align: top;\n",
       "    }\n",
       "\n",
       "    .dataframe thead th {\n",
       "        text-align: right;\n",
       "    }\n",
       "</style>\n",
       "<table border=\"1\" class=\"dataframe\">\n",
       "  <thead>\n",
       "    <tr style=\"text-align: right;\">\n",
       "      <th></th>\n",
       "      <th>Poem_index</th>\n",
       "      <th>Similarity</th>\n",
       "    </tr>\n",
       "  </thead>\n",
       "  <tbody>\n",
       "    <tr>\n",
       "      <th>0</th>\n",
       "      <td>0</td>\n",
       "      <td>1.000000</td>\n",
       "    </tr>\n",
       "    <tr>\n",
       "      <th>130</th>\n",
       "      <td>130</td>\n",
       "      <td>0.022652</td>\n",
       "    </tr>\n",
       "  </tbody>\n",
       "</table>\n",
       "</div>"
      ],
      "text/plain": [
       "     Poem_index  Similarity\n",
       "0             0    1.000000\n",
       "130         130    0.022652"
      ]
     },
     "execution_count": 10,
     "metadata": {},
     "output_type": "execute_result"
    }
   ],
   "source": [
    "Test.loc[Test['Similarity']>0.02,:]"
   ]
  },
  {
   "cell_type": "code",
   "execution_count": 18,
   "id": "9be63012",
   "metadata": {},
   "outputs": [
    {
     "data": {
      "text/plain": [
       "'Arriving with throats like nipped roses, like a tiny bloom fastened to each neck, nothing else cuts the air quite like this thrum to make the small dog at my feet whine and yelp. So we wait—no excitement pinned to the sky so needled and our days open full of rain for weeks. Nothing yet'"
      ]
     },
     "execution_count": 18,
     "metadata": {},
     "output_type": "execute_result"
    }
   ],
   "source": [
    "df.loc[130,'Poem']"
   ]
  },
  {
   "cell_type": "code",
   "execution_count": 21,
   "id": "13667bd5",
   "metadata": {},
   "outputs": [
    {
     "data": {
      "text/plain": [
       "[[28, 79], [59, 61], [61, 59], [79, 28]]"
      ]
     },
     "execution_count": 21,
     "metadata": {},
     "output_type": "execute_result"
    }
   ],
   "source": [
    "Sim_List = []\n",
    "for i in range(len(Cos_Sim)):\n",
    "    for n,j in enumerate(Cos_Sim[i]):\n",
    "        if (j >= 0.15) and (j< 0.99):\n",
    "            Sim_List.append([i,n])\n",
    "\n",
    "Sim_List"
   ]
  },
  {
   "cell_type": "code",
   "execution_count": 24,
   "id": "cad10e3f",
   "metadata": {},
   "outputs": [],
   "source": [
    "def Print_Sims(Ind1,Ind2):\n",
    "    print(f\"1 - {df.loc[Ind1,'Poem']} \\n2 - {df.loc[Ind2,'Poem']}\\n********\")"
   ]
  },
  {
   "cell_type": "code",
   "execution_count": 25,
   "id": "17cadd2f",
   "metadata": {},
   "outputs": [
    {
     "name": "stdout",
     "output_type": "stream",
     "text": [
      "1 -  I saw thee on thy bridal day—When a burning blush came o’er thee,Though happiness around thee lay,The world all love before thee: \n",
      "2 - How do I love thee? Let me count the ways. I love thee to the depth and breadth and height My soul can reach, when feeling out of sight For the ends of being and ideal grace. I love thee to the level of every day's Most quiet need, by sun and candle-light. I love thee\n",
      "********\n",
      "1 - Come to me in the silence of the night; Come in the speaking silence of a dream; Come with soft rounded cheeks and eyes as bright As sunlight on a stream;Come back in tears, O memory, hope, love of \n",
      "2 - Come when the nights are bright with starsOr when the moon is mellow; Come when the sun his golden barsDrops on the hay-field yellow. Come in the twilight soft and gray, Come in the night or come in the day, Come, O love, whene'er you may, \n",
      "********\n",
      "1 - Come when the nights are bright with starsOr when the moon is mellow; Come when the sun his golden barsDrops on the hay-field yellow. Come in the twilight soft and gray, Come in the night or come in the day, Come, O love, whene'er you may,  \n",
      "2 - Come to me in the silence of the night; Come in the speaking silence of a dream; Come with soft rounded cheeks and eyes as bright As sunlight on a stream;Come back in tears, O memory, hope, love of\n",
      "********\n",
      "1 - How do I love thee? Let me count the ways. I love thee to the depth and breadth and height My soul can reach, when feeling out of sight For the ends of being and ideal grace. I love thee to the level of every day's Most quiet need, by sun and candle-light. I love thee \n",
      "2 -  I saw thee on thy bridal day—When a burning blush came o’er thee,Though happiness around thee lay,The world all love before thee:\n",
      "********\n"
     ]
    }
   ],
   "source": [
    "for Poems in Sim_List:\n",
    "    Print_Sims(Poems[0],Poems[1])"
   ]
  },
  {
   "cell_type": "code",
   "execution_count": 26,
   "id": "b909ee6e",
   "metadata": {},
   "outputs": [
    {
     "data": {
      "text/plain": [
       "array([0.        , 0.        , 0.00790382, 0.        , 0.        ,\n",
       "       0.00983396, 0.        , 0.        , 0.00662234, 0.        ,\n",
       "       0.        , 0.        , 0.        , 0.        , 0.00987786,\n",
       "       0.        , 0.00596875, 0.        , 0.        , 0.        ,\n",
       "       0.        , 0.        , 0.        , 0.        , 0.        ,\n",
       "       0.00307366, 0.01054722, 0.        , 1.        , 0.0096579 ,\n",
       "       0.        , 0.00857209, 0.04625298, 0.        , 0.        ,\n",
       "       0.00628446, 0.        , 0.01867034, 0.01161551, 0.00789433,\n",
       "       0.02984163, 0.        , 0.        , 0.        , 0.00282757,\n",
       "       0.0074316 , 0.00659283, 0.00307606, 0.        , 0.03887111,\n",
       "       0.00645685, 0.00871927, 0.        , 0.0032582 , 0.01449641,\n",
       "       0.006229  , 0.01359981, 0.        , 0.00287314, 0.00339465,\n",
       "       0.05482812, 0.01865386, 0.00297947, 0.        , 0.02021154,\n",
       "       0.00293738, 0.01339542, 0.        , 0.        , 0.00606638,\n",
       "       0.04699716, 0.        , 0.00262162, 0.        , 0.01848124,\n",
       "       0.        , 0.        , 0.        , 0.00652468, 0.20820661,\n",
       "       0.03793715, 0.        , 0.00299702, 0.        , 0.00368035,\n",
       "       0.        , 0.        , 0.        , 0.01348951, 0.        ,\n",
       "       0.00299505, 0.00286445, 0.01485538, 0.00273582, 0.        ,\n",
       "       0.        , 0.02764897, 0.00436654, 0.        , 0.        ,\n",
       "       0.        , 0.00880911, 0.06056848, 0.        , 0.        ,\n",
       "       0.        , 0.01363794, 0.00313347, 0.01102512, 0.00871955,\n",
       "       0.        , 0.        , 0.        , 0.02074745, 0.        ,\n",
       "       0.        , 0.        , 0.        , 0.01991098, 0.00383894,\n",
       "       0.01139694, 0.        , 0.00966982, 0.00329573, 0.01962972,\n",
       "       0.        , 0.        , 0.        , 0.        , 0.01158915,\n",
       "       0.        , 0.        , 0.        , 0.        , 0.00607032,\n",
       "       0.01781985, 0.        , 0.        , 0.01670781, 0.00882947,\n",
       "       0.00913459, 0.        , 0.        , 0.        , 0.0200539 ,\n",
       "       0.        , 0.        , 0.        , 0.        , 0.        ])"
      ]
     },
     "execution_count": 26,
     "metadata": {},
     "output_type": "execute_result"
    }
   ],
   "source": [
    "Cos_Sim[28]"
   ]
  },
  {
   "cell_type": "code",
   "execution_count": 27,
   "id": "217c6336",
   "metadata": {},
   "outputs": [],
   "source": [
    "Test = pd.DataFrame(list(enumerate(Cos_Sim[28])), columns = ['Poem_index','Similarity'])"
   ]
  },
  {
   "cell_type": "code",
   "execution_count": 30,
   "id": "6b53443c",
   "metadata": {},
   "outputs": [
    {
     "data": {
      "text/html": [
       "<div>\n",
       "<style scoped>\n",
       "    .dataframe tbody tr th:only-of-type {\n",
       "        vertical-align: middle;\n",
       "    }\n",
       "\n",
       "    .dataframe tbody tr th {\n",
       "        vertical-align: top;\n",
       "    }\n",
       "\n",
       "    .dataframe thead th {\n",
       "        text-align: right;\n",
       "    }\n",
       "</style>\n",
       "<table border=\"1\" class=\"dataframe\">\n",
       "  <thead>\n",
       "    <tr style=\"text-align: right;\">\n",
       "      <th></th>\n",
       "      <th>Poem_index</th>\n",
       "      <th>Similarity</th>\n",
       "    </tr>\n",
       "  </thead>\n",
       "  <tbody>\n",
       "    <tr>\n",
       "      <th>28</th>\n",
       "      <td>28</td>\n",
       "      <td>1.000000</td>\n",
       "    </tr>\n",
       "    <tr>\n",
       "      <th>79</th>\n",
       "      <td>79</td>\n",
       "      <td>0.208207</td>\n",
       "    </tr>\n",
       "    <tr>\n",
       "      <th>102</th>\n",
       "      <td>102</td>\n",
       "      <td>0.060568</td>\n",
       "    </tr>\n",
       "    <tr>\n",
       "      <th>60</th>\n",
       "      <td>60</td>\n",
       "      <td>0.054828</td>\n",
       "    </tr>\n",
       "    <tr>\n",
       "      <th>70</th>\n",
       "      <td>70</td>\n",
       "      <td>0.046997</td>\n",
       "    </tr>\n",
       "    <tr>\n",
       "      <th>...</th>\n",
       "      <td>...</td>\n",
       "      <td>...</td>\n",
       "    </tr>\n",
       "    <tr>\n",
       "      <th>57</th>\n",
       "      <td>57</td>\n",
       "      <td>0.000000</td>\n",
       "    </tr>\n",
       "    <tr>\n",
       "      <th>52</th>\n",
       "      <td>52</td>\n",
       "      <td>0.000000</td>\n",
       "    </tr>\n",
       "    <tr>\n",
       "      <th>48</th>\n",
       "      <td>48</td>\n",
       "      <td>0.000000</td>\n",
       "    </tr>\n",
       "    <tr>\n",
       "      <th>43</th>\n",
       "      <td>43</td>\n",
       "      <td>0.000000</td>\n",
       "    </tr>\n",
       "    <tr>\n",
       "      <th>149</th>\n",
       "      <td>149</td>\n",
       "      <td>0.000000</td>\n",
       "    </tr>\n",
       "  </tbody>\n",
       "</table>\n",
       "<p>150 rows × 2 columns</p>\n",
       "</div>"
      ],
      "text/plain": [
       "     Poem_index  Similarity\n",
       "28           28    1.000000\n",
       "79           79    0.208207\n",
       "102         102    0.060568\n",
       "60           60    0.054828\n",
       "70           70    0.046997\n",
       "..          ...         ...\n",
       "57           57    0.000000\n",
       "52           52    0.000000\n",
       "48           48    0.000000\n",
       "43           43    0.000000\n",
       "149         149    0.000000\n",
       "\n",
       "[150 rows x 2 columns]"
      ]
     },
     "execution_count": 30,
     "metadata": {},
     "output_type": "execute_result"
    }
   ],
   "source": [
    "Test.sort_values(by=\"Similarity\",ascending=False)"
   ]
  },
  {
   "cell_type": "code",
   "execution_count": null,
   "id": "fb5cc8f8",
   "metadata": {},
   "outputs": [],
   "source": []
  }
 ],
 "metadata": {
  "kernelspec": {
   "display_name": "Python 3 (ipykernel)",
   "language": "python",
   "name": "python3"
  },
  "language_info": {
   "codemirror_mode": {
    "name": "ipython",
    "version": 3
   },
   "file_extension": ".py",
   "mimetype": "text/x-python",
   "name": "python",
   "nbconvert_exporter": "python",
   "pygments_lexer": "ipython3",
   "version": "3.9.12"
  }
 },
 "nbformat": 4,
 "nbformat_minor": 5
}
